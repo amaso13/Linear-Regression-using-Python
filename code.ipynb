{
 "cells": [
  {
   "cell_type": "markdown",
   "id": "47a4234a",
   "metadata": {},
   "source": [
    "# Linear Regression Algorithm\n",
    "\n",
    "Linear Regression is one of the easiest and most popular Supervised Machine Learning algorithms. It is a technique for predicting a target value using independent factors. Linear Regression is mostly used for forecasting and determining cause and effect relationships among variables. \n"
   ]
  },
  {
   "cell_type": "markdown",
   "id": "147b2cbf",
   "metadata": {},
   "source": [
    "We will use the following modules for the implementation of Linear Regression Algorithm\n",
    "1. pandas\n",
    "2. matplotlib\n",
    "3. seaborn\n",
    "4. sklearn\n",
    "\n",
    "You can install the required modules on your Jupyter notebook by running the following command in the cell of the notebook.\n",
    "\n",
    "%pip install pandas\n",
    "\n",
    "%pip install matplotlib\n",
    "\n",
    "%pip install seaborn\n",
    "\n",
    "%pip install sklearn"
   ]
  },
  {
   "cell_type": "code",
   "execution_count": 1,
   "id": "4a79f122",
   "metadata": {},
   "outputs": [],
   "source": [
    "# Importing the required modules for linear regression using python\n",
    "import matplotlib.pyplot as plt\n",
    "import pandas as pd"
   ]
  },
  {
   "cell_type": "markdown",
   "id": "3a72c91a",
   "metadata": {},
   "source": [
    "#### Importing the dataset\n",
    "\n",
    "We will use pandas module to import the dataset.\n",
    "Then we will use different build in pandas methods to explore the dataset in more detail"
   ]
  },
  {
   "cell_type": "code",
   "execution_count": 10,
   "id": "7f5eeefe",
   "metadata": {},
   "outputs": [],
   "source": [
    "# Importing the dataset\n",
    "dataset = pd.read_csv('DataForLR.csv')"
   ]
  },
  {
   "cell_type": "code",
   "execution_count": 11,
   "id": "1f16e7dd",
   "metadata": {},
   "outputs": [
    {
     "data": {
      "text/html": [
       "<div>\n",
       "<style scoped>\n",
       "    .dataframe tbody tr th:only-of-type {\n",
       "        vertical-align: middle;\n",
       "    }\n",
       "\n",
       "    .dataframe tbody tr th {\n",
       "        vertical-align: top;\n",
       "    }\n",
       "\n",
       "    .dataframe thead th {\n",
       "        text-align: right;\n",
       "    }\n",
       "</style>\n",
       "<table border=\"1\" class=\"dataframe\">\n",
       "  <thead>\n",
       "    <tr style=\"text-align: right;\">\n",
       "      <th></th>\n",
       "      <th>Hours</th>\n",
       "      <th>Score</th>\n",
       "    </tr>\n",
       "  </thead>\n",
       "  <tbody>\n",
       "    <tr>\n",
       "      <th>0</th>\n",
       "      <td>1.0</td>\n",
       "      <td>56</td>\n",
       "    </tr>\n",
       "    <tr>\n",
       "      <th>1</th>\n",
       "      <td>2.0</td>\n",
       "      <td>63</td>\n",
       "    </tr>\n",
       "    <tr>\n",
       "      <th>2</th>\n",
       "      <td>2.0</td>\n",
       "      <td>61</td>\n",
       "    </tr>\n",
       "    <tr>\n",
       "      <th>3</th>\n",
       "      <td>4.0</td>\n",
       "      <td>88</td>\n",
       "    </tr>\n",
       "    <tr>\n",
       "      <th>4</th>\n",
       "      <td>2.0</td>\n",
       "      <td>72</td>\n",
       "    </tr>\n",
       "  </tbody>\n",
       "</table>\n",
       "</div>"
      ],
      "text/plain": [
       "   Hours  Score\n",
       "0    1.0     56\n",
       "1    2.0     63\n",
       "2    2.0     61\n",
       "3    4.0     88\n",
       "4    2.0     72"
      ]
     },
     "execution_count": 11,
     "metadata": {},
     "output_type": "execute_result"
    }
   ],
   "source": [
    "# printing columns and few rows of the dataset\n",
    "dataset.head()"
   ]
  },
  {
   "cell_type": "code",
   "execution_count": 12,
   "id": "8b465cb2",
   "metadata": {},
   "outputs": [
    {
     "name": "stdout",
     "output_type": "stream",
     "text": [
      "<class 'pandas.core.frame.DataFrame'>\n",
      "RangeIndex: 53 entries, 0 to 52\n",
      "Data columns (total 2 columns):\n",
      " #   Column  Non-Null Count  Dtype  \n",
      "---  ------  --------------  -----  \n",
      " 0   Hours   53 non-null     float64\n",
      " 1   Score   53 non-null     int64  \n",
      "dtypes: float64(1), int64(1)\n",
      "memory usage: 976.0 bytes\n"
     ]
    }
   ],
   "source": [
    "dataset.info()"
   ]
  },
  {
   "cell_type": "code",
   "execution_count": 13,
   "id": "1b2e820c",
   "metadata": {},
   "outputs": [
    {
     "data": {
      "text/html": [
       "<div>\n",
       "<style scoped>\n",
       "    .dataframe tbody tr th:only-of-type {\n",
       "        vertical-align: middle;\n",
       "    }\n",
       "\n",
       "    .dataframe tbody tr th {\n",
       "        vertical-align: top;\n",
       "    }\n",
       "\n",
       "    .dataframe thead th {\n",
       "        text-align: right;\n",
       "    }\n",
       "</style>\n",
       "<table border=\"1\" class=\"dataframe\">\n",
       "  <thead>\n",
       "    <tr style=\"text-align: right;\">\n",
       "      <th></th>\n",
       "      <th>Hours</th>\n",
       "      <th>Score</th>\n",
       "    </tr>\n",
       "  </thead>\n",
       "  <tbody>\n",
       "    <tr>\n",
       "      <th>count</th>\n",
       "      <td>53.000000</td>\n",
       "      <td>53.000000</td>\n",
       "    </tr>\n",
       "    <tr>\n",
       "      <th>mean</th>\n",
       "      <td>3.492453</td>\n",
       "      <td>78.943396</td>\n",
       "    </tr>\n",
       "    <tr>\n",
       "      <th>std</th>\n",
       "      <td>1.463511</td>\n",
       "      <td>12.191446</td>\n",
       "    </tr>\n",
       "    <tr>\n",
       "      <th>min</th>\n",
       "      <td>1.000000</td>\n",
       "      <td>50.000000</td>\n",
       "    </tr>\n",
       "    <tr>\n",
       "      <th>25%</th>\n",
       "      <td>2.000000</td>\n",
       "      <td>70.000000</td>\n",
       "    </tr>\n",
       "    <tr>\n",
       "      <th>50%</th>\n",
       "      <td>3.900000</td>\n",
       "      <td>82.000000</td>\n",
       "    </tr>\n",
       "    <tr>\n",
       "      <th>75%</th>\n",
       "      <td>4.400000</td>\n",
       "      <td>87.000000</td>\n",
       "    </tr>\n",
       "    <tr>\n",
       "      <th>max</th>\n",
       "      <td>6.900000</td>\n",
       "      <td>99.000000</td>\n",
       "    </tr>\n",
       "  </tbody>\n",
       "</table>\n",
       "</div>"
      ],
      "text/plain": [
       "           Hours      Score\n",
       "count  53.000000  53.000000\n",
       "mean    3.492453  78.943396\n",
       "std     1.463511  12.191446\n",
       "min     1.000000  50.000000\n",
       "25%     2.000000  70.000000\n",
       "50%     3.900000  82.000000\n",
       "75%     4.400000  87.000000\n",
       "max     6.900000  99.000000"
      ]
     },
     "execution_count": 13,
     "metadata": {},
     "output_type": "execute_result"
    }
   ],
   "source": [
    "dataset.describe()"
   ]
  },
  {
   "cell_type": "markdown",
   "id": "fe83ff87",
   "metadata": {},
   "source": [
    "\n",
    "#### Dividing the dataset into inputs and output\n",
    "Here now, we will divide the dataset into intputs and output variables so that later we can use them to train our model. \n",
    "        We are using pandas build in method iloc() to get the data from the dataset\n"
   ]
  },
  {
   "cell_type": "code",
   "execution_count": null,
   "id": "8139aaed",
   "metadata": {},
   "outputs": [],
   "source": [
    "# get a copy of dataset exclude last column\n",
    "X = dataset.iloc[:, :-1].values \n",
    "# get array of dataset in column 2st\n",
    "y = dataset.iloc[:, 1].values \n"
   ]
  },
  {
   "cell_type": "markdown",
   "id": "0e6af6c4",
   "metadata": {},
   "source": [
    "##### Splitting the dataset into training and testing part\n",
    "Once we have divide the data into into inputs and outputs, we then can split the dataset into training part and testing part.\n",
    "\n",
    "Training part will be used to train the model ( the data will be provided along with the labels) while the testing part will be used to test the performance of our model. Here we have specified the test_size= 0.3 which means 30% of the data will be alocated for the testing part and the remaining 70% will be alocated for the training and the selection will be totally randomly."
   ]
  },
  {
   "cell_type": "code",
   "execution_count": 14,
   "id": "23e467b7",
   "metadata": {},
   "outputs": [],
   "source": [
    "# Splitting the dataset into the Training set and Test set\n",
    "from sklearn.model_selection import train_test_split\n",
    "# 30% data for testing, random state 0\n",
    "X_train, X_test, y_train, y_test = train_test_split(X, y, test_size=.3, random_state=1)\n"
   ]
  },
  {
   "cell_type": "markdown",
   "id": "81d44a71",
   "metadata": {},
   "source": [
    "##### Training the model\n",
    "Here we imported the Linear Regression algorithm from the sklearn module. We then initialize the mdel and provided the training data to train our model.\n",
    "\n",
    "Once the training will be finished, we can provide the testing data (without labels) to test our data and will store the outputs in a variable "
   ]
  },
  {
   "cell_type": "code",
   "execution_count": 6,
   "id": "f4af6dfb",
   "metadata": {},
   "outputs": [
    {
     "data": {
      "text/plain": [
       "LinearRegression()"
      ]
     },
     "execution_count": 6,
     "metadata": {},
     "output_type": "execute_result"
    }
   ],
   "source": [
    "# Importing linear regression form sklear\n",
    "from sklearn.linear_model import LinearRegression\n",
    "# initializing the algorithm\n",
    "regressor = LinearRegression()\n",
    "# Fitting Simple Linear Regression to the Training set\n",
    "regressor.fit(X_train, y_train)\n"
   ]
  },
  {
   "cell_type": "code",
   "execution_count": 7,
   "id": "68f3d3ea",
   "metadata": {},
   "outputs": [],
   "source": [
    "# Predicting the Test set results\n",
    "y_pred = regressor.predict(X_test)\n"
   ]
  },
  {
   "cell_type": "code",
   "execution_count": null,
   "id": "043fb5aa",
   "metadata": {},
   "outputs": [],
   "source": []
  },
  {
   "cell_type": "markdown",
   "id": "9e3c0f8c",
   "metadata": {},
   "source": [
    "#### Visualizing the model predictions\n",
    "We can now visualize the predictions of our model. The scattered plots are the real values while the linear line is the predicted values of our model"
   ]
  },
  {
   "cell_type": "code",
   "execution_count": 8,
   "id": "9c1355ee",
   "metadata": {},
   "outputs": [
    {
     "data": {
      "image/png": "[encoded data removed]",
      "text/plain": [
       "<Figure size 432x288 with 1 Axes>"
      ]
     },
     "metadata": {
      "needs_background": "light"
     },
     "output_type": "display_data"
    }
   ],
   "source": [
    "# Visualizing the Training set results\n",
    "viz_train = plt\n",
    "viz_train.scatter(X, y, color='red')\n",
    "viz_train.plot(X_train, regressor.predict(X_train), color='blue')\n",
    "viz_train.title('Hours vs Score')\n",
    "viz_train.xlabel('Hours')\n",
    "viz_train.ylabel('Score')\n",
    "viz_train.show()\n",
    "\n"
   ]
  },
  {
   "cell_type": "code",
   "execution_count": null,
   "id": "1e4fd5e2",
   "metadata": {},
   "outputs": [],
   "source": []
  },
  {
   "cell_type": "code",
   "execution_count": 9,
   "id": "d71d856b",
   "metadata": {},
   "outputs": [
    {
     "data": {
      "image/png": "[encoded data removed]",
      "text/plain": [
       "<Figure size 432x288 with 1 Axes>"
      ]
     },
     "metadata": {
      "needs_background": "light"
     },
     "output_type": "display_data"
    }
   ],
   "source": [
    "# Visualizing the Test set results\n",
    "viz_test = plt\n",
    "# red dot colors for actual values\n",
    "viz_test.scatter(X_test, y_test, color='red')\n",
    "# Blue line for the predicted values\n",
    "viz_test.plot(X_test, regressor.predict(X_test), color='blue')\n",
    "# defining the title\n",
    "viz_test.title('Hours vs Score')\n",
    "# x lable\n",
    "viz_test.xlabel('Hours')\n",
    "# y label\n",
    "viz_test.ylabel('Score')\n",
    "# showing the graph\n",
    "viz_test.show()"
   ]
  },
  {
   "cell_type": "markdown",
   "id": "07cc6dbf",
   "metadata": {},
   "source": [
    "### Evaluation of the model\n",
    "\n",
    "###### Mean Absolute Error (MAE)\n",
    "The Mean Absolute Error (MAE) is the simplest regression error metric. It represents the average absolute difference between the actual and predicted values in the dataset. And measures the average of the residuals in the dataset.\n",
    "\n",
    "\n",
    "##### Mean Square Error (MSE)\n",
    "The Mean Square Error (MSE) is similar to the Mean Absolute Error (MAE), but instead of taking the absolute value, it squares the difference before adding them together. The MSE will always be larger than the MAE because we squared the difference.\n",
    "\n",
    "##### Root-Mean-Squared Error (RMSE)\n",
    "It is similar to MSE, but RMSE is the square root of the average of the squared difference of the predicted and actual value. The only problem with MSE is that the loss order is higher than the data order. As a result, we can’t simply correlate data to the error. While in RMSE, we are not changing the loss function, and the solution is still the same. All we are doing is reducing the order of the loss function by taking root.\n",
    "\n",
    "##### R-Squared Error\n",
    "The R-Squared Error method is also known as the coefficient of determination. This metric indicates how well a model fits a given dataset. Or in simple words, it indicates how close the regression line is to the actual data values. The R-Squared value lies between 0 and 1, where 0 indicates that this model doesn’t fit the given data and 1 means that the model perfectly fits the dataset provided."
   ]
  },
  {
   "cell_type": "code",
   "execution_count": 15,
   "id": "79aa5a36",
   "metadata": {},
   "outputs": [
    {
     "name": "stdout",
     "output_type": "stream",
     "text": [
      "4.352725257491122\n"
     ]
    }
   ],
   "source": [
    "# Importing mean_absolute_error from sklearn module\n",
    "from sklearn.metrics import mean_squared_error, mean_absolute_error\n",
    "\n",
    "# printing the mean absolute error\n",
    "print(mean_absolute_error(y_test, y_pred))\n"
   ]
  },
  {
   "cell_type": "code",
   "execution_count": 16,
   "id": "83f1395d",
   "metadata": {},
   "outputs": [
    {
     "name": "stdout",
     "output_type": "stream",
     "text": [
      "23.102603428641917\n"
     ]
    }
   ],
   "source": [
    "# Importing mean_absolute_error from sklearn module\n",
    "from sklearn.metrics import mean_squared_error, mean_absolute_error\n",
    "\n",
    "# printing the mean squared error\n",
    "print(mean_squared_error(y_test, y_pred))"
   ]
  },
  {
   "cell_type": "code",
   "execution_count": 17,
   "id": "37d38cfe",
   "metadata": {},
   "outputs": [
    {
     "name": "stdout",
     "output_type": "stream",
     "text": [
      "4.8065167667076665\n"
     ]
    }
   ],
   "source": [
    "# importing square root method\n",
    "from math import sqrt\n",
    "\n",
    "# Importing mean_absolute_error from sklearn module\n",
    "from sklearn.metrics import mean_squared_error, mean_absolute_error\n",
    "\n",
    "# printing the mean squared error\n",
    "print(sqrt(mean_squared_error(y_test, y_pred)))"
   ]
  },
  {
   "cell_type": "code",
   "execution_count": 18,
   "id": "7c07c8cc",
   "metadata": {},
   "outputs": [
    {
     "name": "stdout",
     "output_type": "stream",
     "text": [
      "0.8351975234003307\n"
     ]
    }
   ],
   "source": [
    "from sklearn.metrics import r2_score \n",
    "\n",
    "# applying r square error\n",
    "R_square = r2_score(y_test, y_pred) \n",
    "print(R_square)"
   ]
  },
  {
   "cell_type": "code",
   "execution_count": null,
   "id": "f7ff7742",
   "metadata": {},
   "outputs": [],
   "source": []
  }
 ],
 "metadata": {
  "kernelspec": {
   "display_name": "Python 3",
   "language": "python",
   "name": "python3"
  },
  "language_info": {
   "codemirror_mode": {
    "name": "ipython",
    "version": 3
   },
   "file_extension": ".py",
   "mimetype": "text/x-python",
   "name": "python",
   "nbconvert_exporter": "python",
   "pygments_lexer": "ipython3",
   "version": "3.8.10"
  }
 },
 "nbformat": 4,
 "nbformat_minor": 5
}
